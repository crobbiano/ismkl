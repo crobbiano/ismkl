{
 "cells": [
  {
   "cell_type": "code",
   "execution_count": 1,
   "metadata": {
    "collapsed": true
   },
   "outputs": [],
   "source": [
    "from scripts.load_mat import load_mat_data\n",
    "from src.learning_network import BaseNetwork, TrainedNetwork\n",
    "import numpy as np"
   ]
  },
  {
   "cell_type": "code",
   "execution_count": null,
   "outputs": [],
   "source": [
    "train, test, gen = load_mat_data('../data/LICENSE.mat')"
   ],
   "metadata": {
    "collapsed": false
   }
  },
  {
   "cell_type": "code",
   "execution_count": null,
   "outputs": [],
   "source": [
    "gauss_params = .5*np.linspace(.01, 3, 10)\n",
    "kernel_dicts = [\n",
    "    {'gaussian': {'param1': gauss_params[0]}},\n",
    "    {'gaussian': {'param1': gauss_params[1]}},\n",
    "    {'gaussian': {'param1': gauss_params[2]}},\n",
    "    {'gaussian': {'param1': gauss_params[3]}},\n",
    "    {'gaussian': {'param1': gauss_params[4]}},\n",
    "    {'gaussian': {'param1': gauss_params[5]}},\n",
    "    {'gaussian': {'param1': gauss_params[6]}},\n",
    "    {'gaussian': {'param1': gauss_params[7]}},\n",
    "    {'gaussian': {'param1': gauss_params[8]}},\n",
    "    {'gaussian': {'param1': gauss_params[9]}},\n",
    "    {'polynomial': {'param1': .5, 'param2': 1}},\n",
    "    {'polynomial': {'param1': .5, 'param2': 2}},\n",
    "    {'polynomial': {'param1': .5, 'param2': 3}},\n",
    "    {'polynomial': {'param1': .5, 'param2': 4}},\n",
    "    {'polynomial': {'param1': 1, 'param2': 1}},\n",
    "    {'polynomial': {'param1': 1, 'param2': 2}},\n",
    "    {'polynomial': {'param1': 1, 'param2': 3}},\n",
    "    {'polynomial': {'param1': 1, 'param2': 4}},\n",
    "]"
   ],
   "metadata": {
    "collapsed": false
   }
  },
  {
   "cell_type": "code",
   "execution_count": null,
   "outputs": [],
   "source": [
    "base = BaseNetwork(\n",
    "    features=train['features'],\n",
    "    labels=train['labels'],\n",
    "    kernels=kernel_dicts,\n",
    "    residual_norm=0.1)\n",
    "base.train()\n",
    "base_results = base.classifier(train['features'], train['labels'])"
   ],
   "metadata": {
    "collapsed": false
   }
  },
  {
   "cell_type": "code",
   "execution_count": null,
   "outputs": [],
   "source": [
    "trained_network = TrainedNetwork(\n",
    "    features=base.features,\n",
    "    labels=base.labels,\n",
    "    kernels=base.kernels,\n",
    "    residual_norm=0.2,\n",
    "    training_sample_order=np.arange(test['features'].shape[1]))\n",
    "trained_network.load_trained_network(base)\n",
    "trained_network.train(test['features'], test['labels'], batch_size=50)"
   ],
   "metadata": {
    "collapsed": false
   }
  },
  {
   "cell_type": "code",
   "execution_count": null,
   "outputs": [],
   "source": [
    "gen_results = trained_network.classifier(gen['features'], gen['labels'])"
   ],
   "metadata": {
    "collapsed": false
   }
  }
 ],
 "metadata": {
  "kernelspec": {
   "display_name": "Python 3",
   "language": "python",
   "name": "python3"
  },
  "language_info": {
   "codemirror_mode": {
    "name": "ipython",
    "version": 2
   },
   "file_extension": ".py",
   "mimetype": "text/x-python",
   "name": "python",
   "nbconvert_exporter": "python",
   "pygments_lexer": "ipython2",
   "version": "2.7.6"
  }
 },
 "nbformat": 4,
 "nbformat_minor": 0
}
