{
 "cells": [
  {
   "cell_type": "code",
   "execution_count": 1,
   "metadata": {
    "collapsed": true
   },
   "outputs": [],
   "source": [
    "from scripts.load_mat import load_mat_data\n",
    "from src.learning_network_tf import BaseNetwork, TrainedNetwork\n",
    "import numpy as np"
   ]
  },
  {
   "cell_type": "code",
   "execution_count": 2,
   "outputs": [],
   "source": [
    "train, test, gen = load_mat_data('../data/yale_faces.mat')"
   ],
   "metadata": {
    "collapsed": false
   }
  },
  {
   "cell_type": "code",
   "execution_count": 3,
   "outputs": [],
   "source": [
    "gauss_params = .5*np.linspace(.01, 3, 10)\n",
    "kernel_dicts = [\n",
    "    {'gaussian': {'param1': gauss_params[0]}},\n",
    "    {'gaussian': {'param1': gauss_params[1]}},\n",
    "    {'gaussian': {'param1': gauss_params[2]}},\n",
    "    {'gaussian': {'param1': gauss_params[3]}},\n",
    "    {'gaussian': {'param1': gauss_params[4]}},\n",
    "    {'gaussian': {'param1': gauss_params[5]}},\n",
    "    {'gaussian': {'param1': gauss_params[6]}},\n",
    "    {'gaussian': {'param1': gauss_params[7]}},\n",
    "    {'gaussian': {'param1': gauss_params[8]}},\n",
    "    {'gaussian': {'param1': gauss_params[9]}},\n",
    "    {'polynomial': {'param1': .5, 'param2': 1}},\n",
    "    {'polynomial': {'param1': .5, 'param2': 2}},\n",
    "    {'polynomial': {'param1': .5, 'param2': 3}},\n",
    "    {'polynomial': {'param1': .5, 'param2': 4}},\n",
    "    {'polynomial': {'param1': 1, 'param2': 1}},\n",
    "    {'polynomial': {'param1': 1, 'param2': 2}},\n",
    "    {'polynomial': {'param1': 1, 'param2': 3}},\n",
    "    {'polynomial': {'param1': 1, 'param2': 4}},\n",
    "]"
   ],
   "metadata": {
    "collapsed": false
   }
  },
  {
   "cell_type": "code",
   "execution_count": 4,
   "outputs": [
    {
     "name": "stdout",
     "output_type": "stream",
     "text": [
      "WARNING:tensorflow:AutoGraph could not transform <bound method KernelMatrix._generate_kernel_matrices of <tensorflow.python.eager.polymorphic_function.tracing_compiler.TfMethodTarget object at 0x29347fa60>> and will run it as-is.\n",
      "Please report this to the TensorFlow team. When filing the bug, set the verbosity to 10 (on Linux, `export AUTOGRAPH_VERBOSITY=10`) and attach the full output.\n",
      "Cause: 'NoneType' object has no attribute '_fields'\n",
      "To silence this warning, decorate the function with @tf.autograph.experimental.do_not_convert\n",
      "WARNING: AutoGraph could not transform <bound method KernelMatrix._generate_kernel_matrices of <tensorflow.python.eager.polymorphic_function.tracing_compiler.TfMethodTarget object at 0x29347fa60>> and will run it as-is.\n",
      "Please report this to the TensorFlow team. When filing the bug, set the verbosity to 10 (on Linux, `export AUTOGRAPH_VERBOSITY=10`) and attach the full output.\n",
      "Cause: 'NoneType' object has no attribute '_fields'\n",
      "To silence this warning, decorate the function with @tf.autograph.experimental.do_not_convert\n",
      "Metal device set to: Apple M1 Pro\n"
     ]
    },
    {
     "name": "stderr",
     "output_type": "stream",
     "text": [
      "2023-02-28 18:29:38.756142: I tensorflow/core/common_runtime/pluggable_device/pluggable_device_factory.cc:306] Could not identify NUMA node of platform GPU ID 0, defaulting to 0. Your kernel may not have been built with NUMA support.\n",
      "2023-02-28 18:29:38.756165: I tensorflow/core/common_runtime/pluggable_device/pluggable_device_factory.cc:272] Created TensorFlow device (/job:localhost/replica:0/task:0/device:GPU:0 with 0 MB memory) -> physical PluggableDevice (device: 0, name: METAL, pci bus id: <undefined>)\n",
      "2023-02-28 18:29:38.883983: W tensorflow/tsl/platform/profile_utils/cpu_utils.cc:128] Failed to get CPU frequency: 0 Hz\n",
      "2023-02-28 18:29:38.893445: I tensorflow/core/grappler/optimizers/custom_graph_optimizer_registry.cc:114] Plugin optimizer for device_type GPU is enabled.\n",
      "100%|██████████| 31/31 [00:06<00:00,  4.52it/s]\n",
      "2023-02-28 18:29:48.050038: I tensorflow/core/grappler/optimizers/custom_graph_optimizer_registry.cc:114] Plugin optimizer for device_type GPU is enabled.\n",
      "2023-02-28 18:29:49.176611: W tensorflow/core/grappler/optimizers/loop_optimizer.cc:907] Skipping loop optimization for Merge node with control input: cond/branch_executed/_8\n",
      "2023-02-28 18:30:10.889575: I tensorflow/core/grappler/optimizers/custom_graph_optimizer_registry.cc:114] Plugin optimizer for device_type GPU is enabled.\n"
     ]
    },
    {
     "name": "stdout",
     "output_type": "stream",
     "text": [
      "Base accuracy: 0.04466501240694789\n"
     ]
    },
    {
     "name": "stderr",
     "output_type": "stream",
     "text": [
      "2023-02-28 18:30:14.088250: I tensorflow/core/grappler/optimizers/custom_graph_optimizer_registry.cc:114] Plugin optimizer for device_type GPU is enabled.\n"
     ]
    }
   ],
   "source": [
    "base_network = BaseNetwork(\n",
    "    features=train['features'],\n",
    "    labels=train['labels'],\n",
    "    kernels=kernel_dicts,\n",
    "    residual_norm=0.1)\n",
    "base_network.train()\n",
    "base_results = base_network.classifier(train['features'], train['labels'])"
   ],
   "metadata": {
    "collapsed": false
   }
  },
  {
   "cell_type": "code",
   "execution_count": 5,
   "outputs": [
    {
     "name": "stderr",
     "output_type": "stream",
     "text": [
      "2023-02-28 18:30:17.486992: I tensorflow/core/grappler/optimizers/custom_graph_optimizer_registry.cc:114] Plugin optimizer for device_type GPU is enabled.\n",
      "2023-02-28 18:30:19.012953: I tensorflow/core/grappler/optimizers/custom_graph_optimizer_registry.cc:114] Plugin optimizer for device_type GPU is enabled.\n"
     ]
    },
    {
     "name": "stdout",
     "output_type": "stream",
     "text": [
      "WARNING:tensorflow:5 out of the last 5 calls to <function KernelMatrix._generate_kernel_matrices at 0x109d97130> triggered tf.function retracing. Tracing is expensive and the excessive number of tracings could be due to (1) creating @tf.function repeatedly in a loop, (2) passing tensors with different shapes, (3) passing Python objects instead of tensors. For (1), please define your @tf.function outside of the loop. For (2), @tf.function has reduce_retracing=True option that can avoid unnecessary retracing. For (3), please refer to https://www.tensorflow.org/guide/function#controlling_retracing and https://www.tensorflow.org/api_docs/python/tf/function for  more details.\n"
     ]
    },
    {
     "ename": "TypeError",
     "evalue": "RecursiveOMP.__init__() takes 1 positional argument but 5 were given",
     "output_type": "error",
     "traceback": [
      "\u001B[0;31m---------------------------------------------------------------------------\u001B[0m",
      "\u001B[0;31mTypeError\u001B[0m                                 Traceback (most recent call last)",
      "Cell \u001B[0;32mIn[5], line 8\u001B[0m\n\u001B[1;32m      1\u001B[0m trained_network \u001B[38;5;241m=\u001B[39m TrainedNetwork(\n\u001B[1;32m      2\u001B[0m     features\u001B[38;5;241m=\u001B[39mbase_network\u001B[38;5;241m.\u001B[39mfeatures,\n\u001B[1;32m      3\u001B[0m     labels\u001B[38;5;241m=\u001B[39mbase_network\u001B[38;5;241m.\u001B[39mlabels,\n\u001B[1;32m      4\u001B[0m     kernels\u001B[38;5;241m=\u001B[39mbase_network\u001B[38;5;241m.\u001B[39mkernels,\n\u001B[1;32m      5\u001B[0m     residual_norm\u001B[38;5;241m=\u001B[39m\u001B[38;5;241m0.2\u001B[39m,\n\u001B[1;32m      6\u001B[0m     training_sample_order\u001B[38;5;241m=\u001B[39mnp\u001B[38;5;241m.\u001B[39marange(test[\u001B[38;5;124m'\u001B[39m\u001B[38;5;124mfeatures\u001B[39m\u001B[38;5;124m'\u001B[39m]\u001B[38;5;241m.\u001B[39mshape[\u001B[38;5;241m1\u001B[39m]))\n\u001B[1;32m      7\u001B[0m trained_network\u001B[38;5;241m.\u001B[39mload_trained_network(base_network)\n\u001B[0;32m----> 8\u001B[0m \u001B[43mtrained_network\u001B[49m\u001B[38;5;241;43m.\u001B[39;49m\u001B[43mtrain\u001B[49m\u001B[43m(\u001B[49m\u001B[43mtest\u001B[49m\u001B[43m[\u001B[49m\u001B[38;5;124;43m'\u001B[39;49m\u001B[38;5;124;43mfeatures\u001B[39;49m\u001B[38;5;124;43m'\u001B[39;49m\u001B[43m]\u001B[49m\u001B[43m[\u001B[49m\u001B[43m:\u001B[49m\u001B[38;5;241;43m5000\u001B[39;49m\u001B[43m]\u001B[49m\u001B[43m,\u001B[49m\u001B[43m \u001B[49m\u001B[43mtest\u001B[49m\u001B[43m[\u001B[49m\u001B[38;5;124;43m'\u001B[39;49m\u001B[38;5;124;43mlabels\u001B[39;49m\u001B[38;5;124;43m'\u001B[39;49m\u001B[43m]\u001B[49m\u001B[43m[\u001B[49m\u001B[43m:\u001B[49m\u001B[38;5;241;43m5000\u001B[39;49m\u001B[43m]\u001B[49m\u001B[43m,\u001B[49m\u001B[43m \u001B[49m\u001B[43mbatch_size\u001B[49m\u001B[38;5;241;43m=\u001B[39;49m\u001B[38;5;241;43m500\u001B[39;49m\u001B[43m)\u001B[49m\n",
      "File \u001B[0;32m~/Documents/repos/ismkl/src/learning_network_tf.py:199\u001B[0m, in \u001B[0;36mTrainedNetwork.train\u001B[0;34m(self, val_features, val_labels, batch_size)\u001B[0m\n\u001B[1;32m    197\u001B[0m sample_batch \u001B[38;5;241m=\u001B[39m val_features[:, selected_samples]\n\u001B[1;32m    198\u001B[0m label_batch \u001B[38;5;241m=\u001B[39m val_labels[selected_samples]\n\u001B[0;32m--> 199\u001B[0m new_atoms \u001B[38;5;241m=\u001B[39m \u001B[38;5;28;43mself\u001B[39;49m\u001B[38;5;241;43m.\u001B[39;49m\u001B[43mlearn_batch\u001B[49m\u001B[43m(\u001B[49m\u001B[38;5;28;43mself\u001B[39;49m\u001B[38;5;241;43m.\u001B[39;49m\u001B[43mfeatures\u001B[49m\u001B[43m,\u001B[49m\u001B[43m \u001B[49m\u001B[43msample_batch\u001B[49m\u001B[43m,\u001B[49m\u001B[43m \u001B[49m\u001B[43mlabel_batch\u001B[49m\u001B[43m)\u001B[49m\n\u001B[1;32m    200\u001B[0m atoms_added \u001B[38;5;241m+\u001B[39m\u001B[38;5;241m=\u001B[39m new_atoms\n\u001B[1;32m    201\u001B[0m \u001B[38;5;28mprint\u001B[39m(\u001B[38;5;124mf\u001B[39m\u001B[38;5;124m'\u001B[39m\u001B[38;5;124mBatch \u001B[39m\u001B[38;5;132;01m{\u001B[39;00mbatch\u001B[38;5;241m/\u001B[39m\u001B[38;5;241m/\u001B[39mbatch_size\u001B[38;5;132;01m}\u001B[39;00m\u001B[38;5;124m -- Added \u001B[39m\u001B[38;5;132;01m{\u001B[39;00mnew_atoms\u001B[38;5;132;01m}\u001B[39;00m\u001B[38;5;124m atoms\u001B[39m\u001B[38;5;124m'\u001B[39m)\n",
      "File \u001B[0;32m~/Documents/repos/ismkl/src/learning_network_tf.py:162\u001B[0m, in \u001B[0;36mTrainedNetwork.learn_batch\u001B[0;34m(self, features, sample_batch, label_batch)\u001B[0m\n\u001B[1;32m    159\u001B[0m labels \u001B[38;5;241m=\u001B[39m np\u001B[38;5;241m.\u001B[39mconcatenate([\u001B[38;5;28mself\u001B[39m\u001B[38;5;241m.\u001B[39mlabels, label_batch], axis\u001B[38;5;241m=\u001B[39m\u001B[38;5;241m0\u001B[39m)\n\u001B[1;32m    161\u001B[0m W0 \u001B[38;5;241m=\u001B[39m \u001B[38;5;28mself\u001B[39m\u001B[38;5;241m.\u001B[39mW0\n\u001B[0;32m--> 162\u001B[0m W \u001B[38;5;241m=\u001B[39m \u001B[43mRecursiveOMP\u001B[49m\u001B[43m(\u001B[49m\u001B[43mKmat\u001B[49m\u001B[43m,\u001B[49m\u001B[43m \u001B[49m\u001B[43mW0\u001B[49m\u001B[43m,\u001B[49m\u001B[43m \u001B[49m\u001B[43mL0\u001B[49m\u001B[43m,\u001B[49m\u001B[43m \u001B[49m\u001B[38;5;28;43mself\u001B[39;49m\u001B[38;5;241;43m.\u001B[39;49m\u001B[43mresidual_norm\u001B[49m\u001B[43m)\u001B[49m\u001B[38;5;241m.\u001B[39mrun()\n\u001B[1;32m    164\u001B[0m num_coefficients_to_delete \u001B[38;5;241m=\u001B[39m np\u001B[38;5;241m.\u001B[39mmax(np\u001B[38;5;241m.\u001B[39msum(W \u001B[38;5;241m!=\u001B[39m \u001B[38;5;241m0\u001B[39m, axis\u001B[38;5;241m=\u001B[39m\u001B[38;5;241m0\u001B[39m) \u001B[38;5;241m-\u001B[39m np\u001B[38;5;241m.\u001B[39msum(\u001B[38;5;28mself\u001B[39m\u001B[38;5;241m.\u001B[39mW0 \u001B[38;5;241m!=\u001B[39m \u001B[38;5;241m0\u001B[39m, axis\u001B[38;5;241m=\u001B[39m\u001B[38;5;241m0\u001B[39m))\n\u001B[1;32m    165\u001B[0m \u001B[38;5;28;01mif\u001B[39;00m num_coefficients_to_delete \u001B[38;5;241m<\u001B[39m \u001B[38;5;28mself\u001B[39m\u001B[38;5;241m.\u001B[39mmin_sparsity:\n",
      "\u001B[0;31mTypeError\u001B[0m: RecursiveOMP.__init__() takes 1 positional argument but 5 were given"
     ]
    }
   ],
   "source": [
    "trained_network = TrainedNetwork(\n",
    "    features=base_network.features,\n",
    "    labels=base_network.labels,\n",
    "    kernels=base_network.kernels,\n",
    "    residual_norm=0.2,\n",
    "    training_sample_order=np.arange(test['features'].shape[1]))\n",
    "trained_network.load_trained_network(base_network)\n",
    "trained_network.train(test['features'][:5000], test['labels'][:5000], batch_size=500)"
   ],
   "metadata": {
    "collapsed": false
   }
  },
  {
   "cell_type": "code",
   "execution_count": null,
   "outputs": [],
   "source": [
    "gen_results_base = base_network.classifier(gen['features'], gen['labels'])\n",
    "gen_results_trained = trained_network.classifier(gen['features'], gen['labels'])\n",
    "gen_accuracy_base = np.count_nonzero(gen_results_base[1])/len(gen_results_base[1])\n",
    "gen_accuracy_trained = np.count_nonzero(gen_results_trained[1])/len(gen_results_trained[1])\n",
    "print(f'Accuracy for novel samples before training: {gen_accuracy_base}')\n",
    "print(f'Accuracy for novel samples after training: {gen_accuracy_trained}')\n"
   ],
   "metadata": {
    "collapsed": false
   }
  }
 ],
 "metadata": {
  "kernelspec": {
   "display_name": "Python 3",
   "language": "python",
   "name": "python3"
  },
  "language_info": {
   "codemirror_mode": {
    "name": "ipython",
    "version": 2
   },
   "file_extension": ".py",
   "mimetype": "text/x-python",
   "name": "python",
   "nbconvert_exporter": "python",
   "pygments_lexer": "ipython2",
   "version": "2.7.6"
  }
 },
 "nbformat": 4,
 "nbformat_minor": 0
}
