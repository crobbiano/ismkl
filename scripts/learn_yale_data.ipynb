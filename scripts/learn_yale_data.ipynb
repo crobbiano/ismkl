{
 "cells": [
  {
   "cell_type": "code",
   "execution_count": 13,
   "metadata": {
    "collapsed": true
   },
   "outputs": [],
   "source": [
    "from scripts.load_mat import load_mat_data\n",
    "from src.learning_network import BaseNetwork, TrainedNetwork\n",
    "import numpy as np"
   ]
  },
  {
   "cell_type": "code",
   "execution_count": 14,
   "outputs": [],
   "source": [
    "train, test, gen = load_mat_data('../../../Data/yale_faces.mat')"
   ],
   "metadata": {
    "collapsed": false
   }
  },
  {
   "cell_type": "code",
   "execution_count": 15,
   "outputs": [],
   "source": [
    "gauss_params = .5*np.linspace(.01, 3, 10)\n",
    "kernel_dicts = [\n",
    "    {'gaussian': {'param1': gauss_params[0]}},\n",
    "    {'gaussian': {'param1': gauss_params[1]}},\n",
    "    {'gaussian': {'param1': gauss_params[2]}},\n",
    "    {'gaussian': {'param1': gauss_params[3]}},\n",
    "    {'gaussian': {'param1': gauss_params[4]}},\n",
    "    {'gaussian': {'param1': gauss_params[5]}},\n",
    "    {'gaussian': {'param1': gauss_params[6]}},\n",
    "    {'gaussian': {'param1': gauss_params[7]}},\n",
    "    {'gaussian': {'param1': gauss_params[8]}},\n",
    "    {'gaussian': {'param1': gauss_params[9]}},\n",
    "    {'polynomial': {'param1': .5, 'param2': 1}},\n",
    "    {'polynomial': {'param1': .5, 'param2': 2}},\n",
    "    {'polynomial': {'param1': .5, 'param2': 3}},\n",
    "    {'polynomial': {'param1': .5, 'param2': 4}},\n",
    "    {'polynomial': {'param1': 1, 'param2': 1}},\n",
    "    {'polynomial': {'param1': 1, 'param2': 2}},\n",
    "    {'polynomial': {'param1': 1, 'param2': 3}},\n",
    "    {'polynomial': {'param1': 1, 'param2': 4}},\n",
    "]"
   ],
   "metadata": {
    "collapsed": false
   }
  },
  {
   "cell_type": "code",
   "execution_count": 16,
   "outputs": [
    {
     "name": "stderr",
     "output_type": "stream",
     "text": [
      "100%|██████████| 31/31 [00:04<00:00,  7.02it/s]\n"
     ]
    },
    {
     "name": "stdout",
     "output_type": "stream",
     "text": [
      "Base accuracy: 1.0\n"
     ]
    }
   ],
   "source": [
    "base_network = BaseNetwork(\n",
    "    features=train['features'],\n",
    "    labels=train['labels'],\n",
    "    kernels=kernel_dicts,\n",
    "    residual_norm=0.1)\n",
    "base_network.train()\n",
    "base_results = base_network.classifier(train['features'], train['labels'])"
   ],
   "metadata": {
    "collapsed": false
   }
  },
  {
   "cell_type": "code",
   "execution_count": 17,
   "outputs": [
    {
     "name": "stderr",
     "output_type": "stream",
     "text": [
      "100%|██████████| 31/31 [00:26<00:00,  1.17it/s]\n",
      "100%|██████████| 31/31 [00:02<00:00, 13.74it/s]\n"
     ]
    },
    {
     "name": "stdout",
     "output_type": "stream",
     "text": [
      "Batch 0 -- Added 150 atoms\n",
      "Batch accuracy: 0.992831541218638\n",
      "Added 150/279 atoms total\n"
     ]
    }
   ],
   "source": [
    "trained_network = TrainedNetwork(\n",
    "    features=base_network.features,\n",
    "    labels=base_network.labels,\n",
    "    kernels=base_network.kernels,\n",
    "    residual_norm=0.2,\n",
    "    training_sample_order=np.arange(test['features'].shape[1]))\n",
    "trained_network.load_trained_network(base_network)\n",
    "trained_network.train(test['features'], test['labels'], batch_size=500)"
   ],
   "metadata": {
    "collapsed": false
   }
  },
  {
   "cell_type": "code",
   "execution_count": 18,
   "outputs": [
    {
     "name": "stdout",
     "output_type": "stream",
     "text": [
      "Accuracy for novel samples before training: 0.7844574780058651\n",
      "Accuracy for novel samples after training: 0.9574780058651027\n"
     ]
    }
   ],
   "source": [
    "gen_results_base = base_network.classifier(gen['features'], gen['labels'])\n",
    "gen_results_trained = trained_network.classifier(gen['features'], gen['labels'])\n",
    "gen_accuracy_base = np.count_nonzero(gen_results_base[1])/len(gen_results_base[1])\n",
    "gen_accuracy_trained = np.count_nonzero(gen_results_trained[1])/len(gen_results_trained[1])\n",
    "print(f'Accuracy for novel samples before training: {gen_accuracy_base}')\n",
    "print(f'Accuracy for novel samples after training: {gen_accuracy_trained}')\n"
   ],
   "metadata": {
    "collapsed": false
   }
  }
 ],
 "metadata": {
  "kernelspec": {
   "display_name": "Python 3",
   "language": "python",
   "name": "python3"
  },
  "language_info": {
   "codemirror_mode": {
    "name": "ipython",
    "version": 2
   },
   "file_extension": ".py",
   "mimetype": "text/x-python",
   "name": "python",
   "nbconvert_exporter": "python",
   "pygments_lexer": "ipython2",
   "version": "2.7.6"
  }
 },
 "nbformat": 4,
 "nbformat_minor": 0
}
